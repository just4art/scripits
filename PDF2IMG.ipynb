{
 "cells": [
  {
   "cell_type": "code",
   "execution_count": 1,
   "metadata": {
    "collapsed": true,
    "deletable": true,
    "editable": true
   },
   "outputs": [],
   "source": [
    "from binascii import b2a_hex\n",
    "import os \n",
    "import sys\n",
    "from pdfminer.pdfinterp import PDFResourceManager, PDFPageInterpreter\n",
    "from pdfminer.converter import TextConverter,PDFPageAggregator\n",
    "from pdfminer.layout import LAParams, LTImage,LTFigure\n",
    "from pdfminer.pdfpage import PDFPage,PDFParser,PDFDocument\n",
    "from cStringIO import StringIO\n",
    "\n",
    "def find_images_in_thing(outer_layout,i):\n",
    "    for thing in outer_layout:\n",
    "        if isinstance(thing, LTImage):\n",
    "            save_image(thing,i)"
   ]
  },
  {
   "cell_type": "code",
   "execution_count": 29,
   "metadata": {
    "collapsed": false
   },
   "outputs": [],
   "source": [
    "home = 'C:/pj/Photo/'\n",
    "from os import listdir\n",
    "from os.path import isfile, join\n",
    "onlyfiles = [f for f in listdir(home) if isfile(join(home, f))]\n",
    "img_all = []\n",
    "for i in onlyfiles:\n",
    "    if i[-7:] !='_ru.pdf':\n",
    "        img_all.append(i)"
   ]
  },
  {
   "cell_type": "code",
   "execution_count": 30,
   "metadata": {
    "collapsed": false
   },
   "outputs": [],
   "source": [
    "def determine_image_type (stream_first_4_bytes):\n",
    "    \"\"\"Find out the image file type based on the magic number comparison of the first 4 (or 2) bytes\"\"\"\n",
    "    file_type = None\n",
    "    bytes_as_hex = b2a_hex(stream_first_4_bytes)\n",
    "    if bytes_as_hex.startswith('ffd8'):\n",
    "        file_type = '.jpeg'\n",
    "    elif bytes_as_hex == '89504e47':\n",
    "        file_type = ',png'\n",
    "    elif bytes_as_hex == '47494638':\n",
    "        file_type = '.gif'\n",
    "    elif bytes_as_hex.startswith('424d'):\n",
    "        file_type = '.bmp'\n",
    "    return file_type\n",
    "\n",
    "def write_file (folder, filename, filedata, flags='w'):\n",
    "    \"\"\"Write the file data to the folder and filename combination\n",
    "    (flags: 'w' for write text, 'wb' for write binary, use 'a' instead of 'w' for append)\"\"\"\n",
    "    result = False\n",
    "    if os.path.isdir(folder):\n",
    "        try:\n",
    "            file_obj = open(os.path.join(folder, filename), flags)\n",
    "            file_obj.write(filedata)\n",
    "            file_obj.close()\n",
    "            result = True\n",
    "        except IOError:\n",
    "            pass\n",
    "    return result\n",
    "\n",
    "\n",
    "def save_image (lt_image,i):\n",
    "    page_number = i[:-6]\n",
    "    images_folder = 'C:/pj/Images2' \n",
    "    \"\"\"Try to save the image data from this LTImage object, and return the file name, if successful\"\"\"\n",
    "    result = None\n",
    "    if lt_image.stream:\n",
    "        file_stream = lt_image.stream.get_rawdata()\n",
    "        file_ext = determine_image_type(file_stream[0:4])\n",
    "        if file_ext:\n",
    "            if len(lt_image.name)==4:\n",
    "                if lt_image.name =='img2':\n",
    "                    file_name = ''.join([str(page_number), '_1', file_ext])\n",
    "                    if write_file(images_folder, file_name, lt_image.stream.get_rawdata(), flags='wb'):\n",
    "                        result = file_name\n",
    "                if lt_image.name =='img3':\n",
    "                    file_name = ''.join([str(page_number), '_2', file_ext])\n",
    "                    if write_file(images_folder, file_name, lt_image.stream.get_rawdata(), flags='wb'):\n",
    "                        result = file_name\n",
    "            if lt_image.name =='img4':\n",
    "                file_name = ''.join([str(page_number), '_1', file_ext])\n",
    "                if write_file(images_folder, file_name, lt_image.stream.get_rawdata(), flags='wb'):\n",
    "                    result = file_name\n",
    "            if lt_image.name =='img5':\n",
    "                file_name = ''.join([str(page_number), '_2', file_ext])\n",
    "                if write_file(images_folder, file_name, lt_image.stream.get_rawdata(), flags='wb'):\n",
    "                    result = file_name\n",
    "    return result\n",
    "\n",
    "for i in img_all:\n",
    "    fp = open(home+i, 'rb')\n",
    "    parser = PDFParser(fp)\n",
    "    document = PDFDocument(parser)\n",
    "    rsrcmgr = PDFResourceManager()\n",
    "    laparams = LAParams()\n",
    "    device = PDFPageAggregator(rsrcmgr, laparams=laparams)\n",
    "    interpreter = PDFPageInterpreter(rsrcmgr, device)\n",
    "    \n",
    "    for page in PDFPage.create_pages(document):\n",
    "        interpreter.process_page(page)\n",
    "        pdf_item = device.get_result()\n",
    "        for thing in pdf_item:\n",
    "            if isinstance(thing, LTImage):\n",
    "                save_image(thing,i)\n",
    "            if isinstance(thing, LTFigure):\n",
    "                find_images_in_thing(thing,i)"
   ]
  },
  {
   "cell_type": "code",
   "execution_count": null,
   "metadata": {
    "collapsed": true
   },
   "outputs": [],
   "source": []
  }
 ],
 "metadata": {
  "kernelspec": {
   "display_name": "Python 2",
   "language": "python",
   "name": "python2"
  },
  "language_info": {
   "codemirror_mode": {
    "name": "ipython",
    "version": 2
   },
   "file_extension": ".py",
   "mimetype": "text/x-python",
   "name": "python",
   "nbconvert_exporter": "python",
   "pygments_lexer": "ipython2",
   "version": "2.7.13"
  }
 },
 "nbformat": 4,
 "nbformat_minor": 2
}
