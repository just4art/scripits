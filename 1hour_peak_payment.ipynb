{
 "cells": [
  {
   "cell_type": "code",
   "execution_count": 1,
   "metadata": {
    "collapsed": true
   },
   "outputs": [],
   "source": [
    "%matplotlib inline\n",
    "import pandas as pd\n",
    "import matplotlib.pyplot as plt\n",
    "import numpy as np"
   ]
  },
  {
   "cell_type": "code",
   "execution_count": 2,
   "metadata": {
    "collapsed": false
   },
   "outputs": [
    {
     "name": "stdout",
     "output_type": "stream",
     "text": [
      "5\n",
      "9056289950\n",
      "[['10:00:00.068' 9056289950L]\n",
      " ['10:00:00.070' 9038192302L]\n",
      " ['10:00:00.074' 9628695862L]\n",
      " ..., \n",
      " ['10:59:06.586' 9632352158L]\n",
      " ['10:59:06.586' 9622144580L]\n",
      " ['10:59:06.598' 9602790076L]]\n"
     ]
    }
   ],
   "source": [
    "d = pd.read_csv('C:/just/1hour_peak_payments.csv',sep=',')\n",
    "x = d.values\n",
    "\n",
    "print int(x[12414][0][3:5])\n",
    "print x[0][1]\n",
    "print x"
   ]
  },
  {
   "cell_type": "code",
   "execution_count": 3,
   "metadata": {
    "collapsed": false
   },
   "outputs": [
    {
     "name": "stdout",
     "output_type": "stream",
     "text": [
      "35903 625\n"
     ]
    }
   ],
   "source": [
    "#создаем список абонентов за первые 15 минут\n",
    "a1 = []\n",
    "a2 = [] #список повторных за 15 минут\n",
    "a3 = [] #остальное\n",
    "c2 = [] #количество повторных. с 16 минуты.\n",
    "\n",
    "for i in range(0,len(x)):\n",
    "    if int(x[i][0][3:5])>=15:\n",
    "        break\n",
    "    \n",
    "    if x[i][1] in a1:\n",
    "        a2.append(x[i][1])\n",
    "        continue\n",
    "    else:\n",
    "        a1.append(x[i][1])\n",
    "        \n",
    "print len(a1), len(a2)"
   ]
  },
  {
   "cell_type": "code",
   "execution_count": 8,
   "metadata": {
    "collapsed": false
   },
   "outputs": [
    {
     "name": "stdout",
     "output_type": "stream",
     "text": [
      "[0, 2450, 4824, 7312, 9652, 12067, 14512, 17087, 19500, 21974, 24445, 26789, 29234, 31539, 34113, 36528, 39049, 41640, 44197, 46854, 49404, 51795, 54290, 56743, 59270, 61797, 64345, 66899, 69285, 71634, 74068, 76522, 78874, 81244, 83652, 85975, 88240, 90605, 92917, 95140, 97349, 99668, 101993, 104255, 106595, 108846, 111114, 113272, 115509, 117806, 120120, 122318, 124363, 126483, 128736, 131134, 133365, 135614, 137643, 139881, 141971] 61\n"
     ]
    }
   ],
   "source": [
    "count = 0\n",
    "c = [0]\n",
    "for i in c1:\n",
    "    count +=i\n",
    "    c.append(count)\n",
    "print c, len(c)"
   ]
  },
  {
   "cell_type": "code",
   "execution_count": 9,
   "metadata": {
    "collapsed": false
   },
   "outputs": [
    {
     "name": "stdout",
     "output_type": "stream",
     "text": [
      "[52, 61, 63, 80, 64, 65, 67, 60, 62, 55, 58, 57, 58, 65, 43, 53, 57, 53, 69, 61, 54, 74, 62, 44, 52, 65, 54, 59, 64, 52, 52, 51, 49, 56, 51, 68, 69, 53, 55, 49, 47, 56, 70, 54, 51]\n"
     ]
    }
   ],
   "source": [
    "#a1 = [] #массив уникальных за 15 минут (двигается вправо)\n",
    "a2 = [] #повторяющиеся на след минуту после массива.\n",
    "a3 = [] #неповторяющиеся на след минуту после массива.\n",
    "c2 = [] #количество повторных. с 16 минуты.\n",
    "# c - нумерация смены минуты\n",
    "\n",
    "for j in range(0,len(c)-16):\n",
    "    a2 = []\n",
    "    #проверяем минуту j+15\n",
    "    for i in range(c[j+15], c[j+16]):\n",
    "        if x[i][1] in a1:\n",
    "            a2.append(x[i][1])\n",
    "            continue\n",
    "        else:\n",
    "            a1.append(x[i][1])\n",
    "    c2.append(len(a2)) \n",
    "    \n",
    "    \n",
    "    #актуальный a1 на след момент \n",
    "    for i in range(c[j], c[j+1]):\n",
    "        try: \n",
    "            a1.remove(x[i][1])\n",
    "        except:\n",
    "            continue\n",
    "print c2"
   ]
  },
  {
   "cell_type": "code",
   "execution_count": 10,
   "metadata": {
    "collapsed": false
   },
   "outputs": [
    {
     "data": {
      "image/png": "[encoded data removed]",
      "text/plain": [
       "<matplotlib.figure.Figure at 0x95ed930>"
      ]
     },
     "metadata": {},
     "output_type": "display_data"
    }
   ],
   "source": [
    "#графики\n",
    "c1 = [] #кол-во всего\n",
    "count = 0\n",
    "j = 0\n",
    "for i in range(0,len(x)):\n",
    "    if i == len(x)-1:\n",
    "        c1.append(count+1)\n",
    "    if j==int(x[i][0][3:5]):\n",
    "        count +=1\n",
    "    else:\n",
    "        c1.append(count)\n",
    "        count=1\n",
    "        j +=1\n",
    "X1 = np.arange(len(c1))\n",
    "X2 = np.arange(len(c1))[15:]\n",
    "plt.plot(X1,c1,'grey')\n",
    "plt.plot(X2,c2,'red')\n",
    "\n",
    "plt.show() "
   ]
  },
  {
   "cell_type": "code",
   "execution_count": 11,
   "metadata": {
    "collapsed": false
   },
   "outputs": [
    {
     "name": "stdout",
     "output_type": "stream",
     "text": [
      "45\n"
     ]
    }
   ],
   "source": [
    "print len(c2)"
   ]
  },
  {
   "cell_type": "code",
   "execution_count": null,
   "metadata": {
    "collapsed": true
   },
   "outputs": [],
   "source": []
  }
 ],
 "metadata": {
  "kernelspec": {
   "display_name": "Python 2",
   "language": "python",
   "name": "python2"
  },
  "language_info": {
   "codemirror_mode": {
    "name": "ipython",
    "version": 2
   },
   "file_extension": ".py",
   "mimetype": "text/x-python",
   "name": "python",
   "nbconvert_exporter": "python",
   "pygments_lexer": "ipython2",
   "version": "2.7.11"
  }
 },
 "nbformat": 4,
 "nbformat_minor": 0
}
